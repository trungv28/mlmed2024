{
 "cells": [
  {
   "cell_type": "code",
   "execution_count": 13,
   "metadata": {},
   "outputs": [],
   "source": [
    "import matplotlib.pyplot as plt\n",
    "from sklearn.model_selection import train_test_split\n",
    "from tqdm import tqdm\n",
    "import os\n",
    "import datetime\n",
    "import torch\n",
    "import torch.optim as optim\n",
    "import torchvision\n",
    "from torchvision import transforms\n",
    "import torch.nn.functional as f\n",
    "from torch.utils.data import Dataset, DataLoader\n",
    "from PIL import Image\n"
   ]
  },
  {
   "cell_type": "code",
   "execution_count": 2,
   "metadata": {},
   "outputs": [],
   "source": [
    "def data_split(dir, split_ratio=0.8):\n",
    "    data = {'img_path': [], 'label': []}\n",
    "    image = 1\n",
    "    for file in sorted(os.listdir(dir)):\n",
    "        if image:\n",
    "            img_path = os.path.join(dir, file)\n",
    "            data['img_path'].append(img_path)\n",
    "            image = 0\n",
    "\n",
    "        else:\n",
    "            label_path = os.path.join(dir, file)\n",
    "            data['label'].append(label_path)\n",
    "            image = 1\n",
    "\n",
    "\n",
    "    train_data = {'img_path': [], 'label': []}\n",
    "    val_data = {'img_path': [], 'label': []}\n",
    "\n",
    "\n",
    "    idx = range(len(data['label']))\n",
    "    train_idx, test_idx = train_test_split(idx, test_size=(1-split_ratio))\n",
    "    for i in train_idx:\n",
    "        train_data['img_path'].append(data['img_path'][i])\n",
    "        train_data['label'].append(data['label'][i])\n",
    "\n",
    "    for i in test_idx:\n",
    "        val_data['img_path'].append(data['img_path'][i])\n",
    "        val_data['label'].append(data['label'][i])\n",
    "\n",
    "    return train_data, val_data"
   ]
  },
  {
   "cell_type": "code",
   "execution_count": 3,
   "metadata": {},
   "outputs": [],
   "source": [
    "class CustomDataset(Dataset):\n",
    "    def __init__(self, data, img_transform=None, label_transform=None):\n",
    "\n",
    "        self.data = data\n",
    "        self.img_transform = img_transform\n",
    "        self.label_transform = label_transform\n",
    "\n",
    "    def __getitem__(self, idx):\n",
    "        try:\n",
    "            image = Image.open(self.data['img_path'][idx]).convert('L')\n",
    "            label = Image.open(self.data['label'][idx]).convert('L')\n",
    "            if self.img_transform and self.label_transform:\n",
    "                image = self.img_transform(image)\n",
    "                label = self.label_transform(label)\n",
    "            image = image.squeeze(0)\n",
    "            label = label.squeeze(0)\n",
    "            return image, label\n",
    "        \n",
    "        except:\n",
    "            print(idx)\n",
    "            return \n",
    "    \n",
    "    def __len__(self):\n",
    "        return len(self.data['img_path'])"
   ]
  },
  {
   "cell_type": "code",
   "execution_count": 4,
   "metadata": {},
   "outputs": [],
   "source": [
    "def rmse(pred, target):\n",
    "    assert pred.shape == target.shape\n",
    "    diff = pred - target\n",
    "    rmse = torch.sqrt(torch.mean(torch.pow(diff, 2)))\n",
    "    return rmse"
   ]
  },
  {
   "cell_type": "code",
   "execution_count": 5,
   "metadata": {},
   "outputs": [],
   "source": [
    "class TrainingLoop():\n",
    "    def __init__(self, model: torch.nn.Module,\n",
    "                        data_path: str,\n",
    "                        batch_size: int,\n",
    "                        loss_fn,\n",
    "                        optim_fn: torch.optim,\n",
    "                        lr: float,\n",
    "                        img_transform: torchvision.transforms,\n",
    "                        label_transform: torchvision.transforms,\n",
    "                        data_split_ratio = 0.8):\n",
    "\n",
    "        self.model = model\n",
    "        self.batch_size = batch_size\n",
    "        self.loss_fn = loss_fn\n",
    "        self.optimizer = optim_fn(self.model.parameters(), lr)\n",
    "        self.img_transform = img_transform\n",
    "        self.label_transform = label_transform\n",
    "\n",
    "        train_data, val_data = data_split(data_path, split_ratio=data_split_ratio)\n",
    "        train_dataset = CustomDataset(train_data, img_transform, label_transform)\n",
    "        val_dataset = CustomDataset(val_data, img_transform, label_transform)\n",
    "\n",
    "        self.train_loader = DataLoader(train_dataset, batch_size, shuffle=True)\n",
    "        self.val_loader = DataLoader(val_dataset, batch_size, shuffle=False)\n",
    "\n",
    "        self.device = torch.device('cuda' if torch.cuda.is_available() else 'cpu')\n",
    "        self.loss_fn.to(self.device)\n",
    "        self.model.to(self.device)\n",
    "\n",
    "    def train(self, n_epochs, save_name, eval_interval=5):\n",
    "        save_path = os.path.join('runs', f\"{save_name}{datetime.datetime.now()}\" )\n",
    "        if os.path.exists(save_path):\n",
    "            print(f\"There is a folder named {save_name} in runs/\")\n",
    "            return\n",
    "        else:\n",
    "            os.makedirs(save_path)\n",
    "\n",
    "        min_rmse = 9999\n",
    "\n",
    "        print(f\"{datetime.datetime.now()} Start train on device {self.device}\")\n",
    "\n",
    "        for epoch in range(1, n_epochs + 1):\n",
    "            self.model.train()\n",
    "            print(f\"Epoch {epoch}\")\n",
    "            train_losses = []\n",
    "\n",
    "            for images, labels in tqdm(self.train_loader, desc=\"Training\"):\n",
    "                images = images.to(self.device)\n",
    "                labels = labels.to(self.device)\n",
    "                self.optimizer.zero_grad()\n",
    "\n",
    "                out = self.model(images.unsqueeze(1))\n",
    "                train_loss = self.loss_fn(out.squeeze(1), labels)\n",
    "\n",
    "                train_loss.backward()\n",
    "                self.optimizer.step()\n",
    "                train_losses.append(train_loss.item())\n",
    "\n",
    "            mean_train_loss = sum(train_losses)/len(train_losses)\n",
    "            print(f\"{datetime.datetime.now()} Epoch {epoch}: Training loss: {mean_train_loss}\")\n",
    "\n",
    "            torch.save(self.model.state_dict(), os.path.join(save_path, \"last_ckpt.pt\"))\n",
    "            if epoch == 1 or epoch % eval_interval == 0:\n",
    "                self.model.eval()\n",
    "                rmse_scores = []\n",
    "\n",
    "                for images, labels in tqdm(self.val_loader, desc=\"Validating\"):\n",
    "                    images = images.to(self.device)\n",
    "                    labels = labels.to(self.device)\n",
    "\n",
    "                    with torch.no_grad():\n",
    "                        out = self.model(images.unsqueeze(1))\n",
    "                                                \n",
    "                        rmse_score = rmse(out.squeeze(1), labels)\n",
    "                    \n",
    "                    rmse_scores.append(rmse_score.item())\n",
    "\n",
    "                mean_rmse = sum(rmse_scores)/len(rmse_scores)\n",
    "                if mean_rmse < min_rmse:\n",
    "                    min_rmse = mean_rmse\n",
    "                    torch.save(self.model.state_dict(), os.path.join(save_path, \"best_ckpt.pt\"))\n",
    "\n",
    "                print(f\"{datetime.datetime.now()} Val RMSE {mean_rmse}\")\n",
    "                print(\"=\"*70)\n",
    "                print(\"\")\n",
    "\n",
    "        return"
   ]
  },
  {
   "cell_type": "code",
   "execution_count": 7,
   "metadata": {},
   "outputs": [],
   "source": [
    "train_data, val_data = data_split('training_set')\n",
    "\n",
    "transform = transforms.Compose([\n",
    "    transforms.Resize((256, 256)),\n",
    "    transforms.ToTensor(),\n",
    "    # transforms.RandomHorizontalFlip(),\n",
    "    # transforms.RandomRotation(20),\n",
    "    # transforms.ColorJitter(brightness=0.1, contrast=0.1, saturation=0.1, hue=0.1),\n",
    "])\n",
    "train_dataset = CustomDataset(train_data, transform, transform)\n",
    "train_loader = DataLoader(train_dataset, batch_size=8, shuffle=True)"
   ]
  },
  {
   "cell_type": "code",
   "execution_count": 8,
   "metadata": {},
   "outputs": [
    {
     "name": "stdout",
     "output_type": "stream",
     "text": [
      "torch.Size([8, 256, 256])\n"
     ]
    }
   ],
   "source": [
    "for i, j in train_loader:\n",
    "    print(i.shape)\n",
    "    break"
   ]
  },
  {
   "cell_type": "code",
   "execution_count": 9,
   "metadata": {},
   "outputs": [
    {
     "name": "stderr",
     "output_type": "stream",
     "text": [
      "Using cache found in /home/trung/.cache/torch/hub/mateuszbuda_brain-segmentation-pytorch_master\n"
     ]
    }
   ],
   "source": [
    "model = torch.hub.load('mateuszbuda/brain-segmentation-pytorch', 'unet', in_channels=1, out_channels=1, init_features=8, pretrained=False)"
   ]
  },
  {
   "cell_type": "code",
   "execution_count": 12,
   "metadata": {},
   "outputs": [
    {
     "name": "stdout",
     "output_type": "stream",
     "text": [
      "2024-03-13 16:36:25.412053 Start train on device cpu\n",
      "Epoch 1\n"
     ]
    },
    {
     "name": "stderr",
     "output_type": "stream",
     "text": [
      "Training: 100%|██████████| 100/100 [01:41<00:00,  1.01s/it]\n"
     ]
    },
    {
     "name": "stdout",
     "output_type": "stream",
     "text": [
      "2024-03-13 16:38:06.672622 Epoch 1: Training loss: 0.26301283955574034\n"
     ]
    },
    {
     "name": "stderr",
     "output_type": "stream",
     "text": [
      "Validating: 100%|██████████| 25/25 [00:09<00:00,  2.55it/s]\n"
     ]
    },
    {
     "name": "stdout",
     "output_type": "stream",
     "text": [
      "2024-03-13 16:38:16.520605 Val RMSE 0.17717369318008422\n",
      "======================================================================\n",
      "\n",
      "Epoch 2\n"
     ]
    },
    {
     "name": "stderr",
     "output_type": "stream",
     "text": [
      "Training: 100%|██████████| 100/100 [01:40<00:00,  1.01s/it]\n"
     ]
    },
    {
     "name": "stdout",
     "output_type": "stream",
     "text": [
      "2024-03-13 16:39:57.115252 Epoch 2: Training loss: 0.16105780139565468\n",
      "Epoch 3\n"
     ]
    },
    {
     "name": "stderr",
     "output_type": "stream",
     "text": [
      "Training: 100%|██████████| 100/100 [01:38<00:00,  1.01it/s]\n"
     ]
    },
    {
     "name": "stdout",
     "output_type": "stream",
     "text": [
      "2024-03-13 16:41:35.727193 Epoch 3: Training loss: 0.10735175609588624\n",
      "Epoch 4\n"
     ]
    },
    {
     "name": "stderr",
     "output_type": "stream",
     "text": [
      "Training: 100%|██████████| 100/100 [01:41<00:00,  1.01s/it]\n"
     ]
    },
    {
     "name": "stdout",
     "output_type": "stream",
     "text": [
      "2024-03-13 16:43:16.923699 Epoch 4: Training loss: 0.078010298833251\n",
      "Epoch 5\n"
     ]
    },
    {
     "name": "stderr",
     "output_type": "stream",
     "text": [
      "Training: 100%|██████████| 100/100 [01:19<00:00,  1.26it/s]\n"
     ]
    },
    {
     "name": "stdout",
     "output_type": "stream",
     "text": [
      "2024-03-13 16:44:36.017081 Epoch 5: Training loss: 0.060755737759172916\n"
     ]
    },
    {
     "name": "stderr",
     "output_type": "stream",
     "text": [
      "Validating: 100%|██████████| 25/25 [00:07<00:00,  3.49it/s]\n"
     ]
    },
    {
     "name": "stdout",
     "output_type": "stream",
     "text": [
      "2024-03-13 16:44:43.206633 Val RMSE 0.06667097598314285\n",
      "======================================================================\n",
      "\n",
      "Epoch 6\n"
     ]
    },
    {
     "name": "stderr",
     "output_type": "stream",
     "text": [
      "Training: 100%|██████████| 100/100 [01:13<00:00,  1.37it/s]\n"
     ]
    },
    {
     "name": "stdout",
     "output_type": "stream",
     "text": [
      "2024-03-13 16:45:56.216094 Epoch 6: Training loss: 0.049960850849747655\n",
      "Epoch 7\n"
     ]
    },
    {
     "name": "stderr",
     "output_type": "stream",
     "text": [
      "Training: 100%|██████████| 100/100 [01:11<00:00,  1.40it/s]\n"
     ]
    },
    {
     "name": "stdout",
     "output_type": "stream",
     "text": [
      "2024-03-13 16:47:07.790125 Epoch 7: Training loss: 0.042952750250697135\n",
      "Epoch 8\n"
     ]
    },
    {
     "name": "stderr",
     "output_type": "stream",
     "text": [
      "Training: 100%|██████████| 100/100 [01:11<00:00,  1.40it/s]\n"
     ]
    },
    {
     "name": "stdout",
     "output_type": "stream",
     "text": [
      "2024-03-13 16:48:19.248594 Epoch 8: Training loss: 0.03826959870755672\n",
      "Epoch 9\n"
     ]
    },
    {
     "name": "stderr",
     "output_type": "stream",
     "text": [
      "Training: 100%|██████████| 100/100 [01:11<00:00,  1.40it/s]\n"
     ]
    },
    {
     "name": "stdout",
     "output_type": "stream",
     "text": [
      "2024-03-13 16:49:30.795983 Epoch 9: Training loss: 0.034627644997090104\n",
      "Epoch 10\n"
     ]
    },
    {
     "name": "stderr",
     "output_type": "stream",
     "text": [
      "Training: 100%|██████████| 100/100 [01:11<00:00,  1.40it/s]\n"
     ]
    },
    {
     "name": "stdout",
     "output_type": "stream",
     "text": [
      "2024-03-13 16:50:42.286570 Epoch 10: Training loss: 0.032178175169974566\n"
     ]
    },
    {
     "name": "stderr",
     "output_type": "stream",
     "text": [
      "Validating: 100%|██████████| 25/25 [00:07<00:00,  3.46it/s]"
     ]
    },
    {
     "name": "stdout",
     "output_type": "stream",
     "text": [
      "2024-03-13 16:50:49.529686 Val RMSE 0.05934552937746048\n",
      "======================================================================\n",
      "\n"
     ]
    },
    {
     "name": "stderr",
     "output_type": "stream",
     "text": [
      "\n"
     ]
    }
   ],
   "source": [
    "lr = 0.001\n",
    "optim_fn = optim.Adam\n",
    "# loss = torch.nn.MSELoss()\n",
    "loss = torch.nn.BCELoss()\n",
    "n_epochs = 10\n",
    "\n",
    "train_loop = TrainingLoop(model, 'training_set', 8, loss, optim_fn, lr, transform, transform)\n",
    "train_loop.train(n_epochs, 'save')"
   ]
  },
  {
   "cell_type": "code",
   "execution_count": 21,
   "metadata": {},
   "outputs": [],
   "source": [
    "class ImageSegmentation():\n",
    "    def __init__(self, model_path = \"runs/BCE_loss/best_ckpt.pt\"):\n",
    "        self.device = torch.device('cuda' if torch.cuda.is_available() else 'cpu')\n",
    "        self.model = torch.hub.load('mateuszbuda/brain-segmentation-pytorch', 'unet', in_channels=1, out_channels=1, init_features=8, pretrained=False)\n",
    "        self.model.load_state_dict(torch.load(model_path, map_location = self.device))\n",
    "        self.model.eval()\n",
    "\n",
    "    @torch.inference_mode()\n",
    "    def segment(self, image):\n",
    "        tf = transforms.Compose([\n",
    "            transforms.Resize((256, 256)),\n",
    "            transforms.ToTensor()])\n",
    "        image = tf(image)\n",
    "        image.unsqueeze_(0)\n",
    "        out = self.model(image)\n",
    "        return image, out\n"
   ]
  },
  {
   "cell_type": "code",
   "execution_count": 22,
   "metadata": {},
   "outputs": [
    {
     "name": "stderr",
     "output_type": "stream",
     "text": [
      "Using cache found in /home/trung/.cache/torch/hub/mateuszbuda_brain-segmentation-pytorch_master\n"
     ]
    },
    {
     "data": {
      "image/png": "[encoded data removed]",
      "text/plain": [
       "<Figure size 576x576 with 2 Axes>"
      ]
     },
     "metadata": {},
     "output_type": "display_data"
    }
   ],
   "source": [
    "segmenter = ImageSegmentation()\n",
    "img = Image.open(\"test_set/111_HC.png\")\n",
    "image, out = segmenter.segment(img)\n",
    "reversed_tf = transforms.ToPILImage()\n",
    "out = reversed_tf(out.squeeze(0))\n",
    "image = reversed_tf(image.squeeze(0))\n",
    "\n",
    "plt.figure(figsize = (8,8))\n",
    "plt.subplot(121), plt.imshow(image, cmap = \"gray\")\n",
    "plt.xticks([]), plt.yticks([])\n",
    "plt.subplot(122), plt.imshow(out, cmap = \"gray\")\n",
    "plt.xticks([]), plt.yticks([])\n",
    "plt.show()"
   ]
  }
 ],
 "metadata": {
  "kernelspec": {
   "display_name": "fast_depth",
   "language": "python",
   "name": "python3"
  },
  "language_info": {
   "codemirror_mode": {
    "name": "ipython",
    "version": 3
   },
   "file_extension": ".py",
   "mimetype": "text/x-python",
   "name": "python",
   "nbconvert_exporter": "python",
   "pygments_lexer": "ipython3",
   "version": "3.7.12"
  }
 },
 "nbformat": 4,
 "nbformat_minor": 2
}
